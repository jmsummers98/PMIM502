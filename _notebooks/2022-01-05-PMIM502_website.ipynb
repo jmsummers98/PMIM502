{
 "cells": [
  {
   "cell_type": "markdown",
   "metadata": {},
   "source": [
    "# Main Visualizations\n",
    "\n",
    "> A collection of visualizations to highlight the presence of depression across the world and how environmental and societal factors impact our mental well-being.\n",
    "\n",
    "- toc: true\n",
    "- badges: false\n",
    "- comments: false"
   ]
  },
  {
   "cell_type": "code",
   "execution_count": null,
   "metadata": {},
   "outputs": [],
   "source": [
    "# hide\n",
    "# Code Import\n",
    "\n",
    "## Imports:\n",
    "\n",
    "### Libraries\n",
    "import numpy as np\n",
    "import pandas as pd\n",
    "import altair as alt\n",
    "import os, os.path\n",
    "import pycountry\n",
    "from vega_datasets import data\n",
    "\n",
    "import country_converter as coco\n",
    "import geopandas as gpd\n",
    "import json\n",
    "\n",
    "### Data\n",
    "cwd = os.getcwd()\n",
    "df_file = '/depression_final_df.csv'\n",
    "df = pd.read_csv(cwd + df_file)\n",
    "\n",
    "countries = alt.topo_feature(data.world_110m.url, 'countries')\n",
    "\n",
    "df = df.dropna(subset=['id'])\n",
    "df.id = df.id.astype(int)\n",
    "df = df.rename(columns={\"Prevalence - Depressive disorders - Sex: Male - Age: Age-standardized (Percent)\": \"Depression in males (%)\",\n",
    "                        \"Prevalence - Depressive disorders - Sex: Female - Age: Age-standardized (Percent)\": \"Depression in females (%)\"})\n",
    "\n",
    "sum_column = df[\"Depression in males (%)\"] + df[\"Depression in females (%)\"]\n",
    "\n",
    "df['Depression (%)'] = sum_column"
   ]
  },
  {
   "cell_type": "code",
   "execution_count": null,
   "metadata": {},
   "outputs": [],
   "source": [
    "# hide\n",
    "df_1990 = df[df['Year'] == 1990]\n",
    "df_2000 = df[df['Year'] == 2000]\n",
    "df_2010 = df[df['Year'] == 2010]\n",
    "df_2017 = df[df['Year'] == 2017]"
   ]
  },
  {
   "cell_type": "code",
   "execution_count": null,
   "metadata": {},
   "outputs": [],
   "source": [
    "#hide\n",
    "click = alt.selection_multi(fields=['Country'])\n",
    "\n",
    "main_width = 700\n",
    "main_height = 400\n",
    "main_colour = alt.Color('Depression (%):Q',scale=alt.Scale(scheme='viridis',reverse=True))\n",
    "\n",
    "main_choropleth = (alt.Chart(countries).mark_geoshape().transform_lookup(\n",
    "    lookup='id',\n",
    "    from_=alt.LookupData(df_2017, 'id', ['Depression (%)','Country']))\n",
    ".encode(\n",
    "    color=main_colour, #'Schizophrenia (%):Q',\n",
    "    opacity=alt.condition(click, alt.value(1), alt.value(0.2)),\n",
    "    tooltip=['Country:N', 'Depression (%):Q'])\n",
    ".add_selection(click)\n",
    ".project(\n",
    "    type='equirectangular')\n",
    ").properties(\n",
    "    width=main_width,\n",
    "    height=main_height\n",
    ")\n",
    "\n",
    "main_background = alt.Chart(countries).mark_geoshape(\n",
    "    fill='lightgrey',\n",
    "    stroke='black',\n",
    "    strokeWidth=0.1\n",
    ").project(\n",
    "    'equirectangular'\n",
    ").properties(\n",
    "    width=main_width,\n",
    "    height=main_height\n",
    ")\n",
    "\n",
    "bars = (\n",
    "    alt.Chart(\n",
    "        df_2017.nlargest(20, 'Depression (%)'),\n",
    "        title='Top 20 countries by depression (%) in 2017').mark_bar().encode(\n",
    "    x='Depression (%)',\n",
    "    opacity=alt.condition(click, alt.value(1), alt.value(0.2)),\n",
    "    color=main_colour,\n",
    "    y=alt.Y('Country', sort='x'))\n",
    ".add_selection(click)).properties(\n",
    "    width=main_width,\n",
    "    height=main_height\n",
    ")\n",
    "\n",
    "country_bars = (\n",
    "    alt.Chart(\n",
    "        df_2017.nlargest(20, 'Depression (%)'),\n",
    "        title='Top 20 countries by depression (%) in 2017').mark_bar().encode(\n",
    "    x='Depression (%)',\n",
    "    opacity=alt.condition(click, alt.value(1), alt.value(0.2)),\n",
    "    color=main_colour,\n",
    "    y=alt.Y('Country', sort='x'))\n",
    ".add_selection(click)).properties(\n",
    "    width=main_width,\n",
    "    height=main_height\n",
    ")\n",
    "\n",
    "main_map_bar = ((main_background + main_choropleth ) & bars) & country_bars"
   ]
  },
  {
   "cell_type": "markdown",
   "metadata": {},
   "source": [
    "## Depression Across the World in 2017"
   ]
  },
  {
   "cell_type": "code",
   "execution_count": null,
   "metadata": {},
   "outputs": [],
   "source": [
    "# hide_input\n",
    "main_map_bar"
   ]
  },
  {
   "cell_type": "markdown",
   "metadata": {},
   "source": [
    "---"
   ]
  },
  {
   "cell_type": "code",
   "execution_count": null,
   "metadata": {},
   "outputs": [],
   "source": [
    "# hide\n",
    "# Graphs 1 - 3 decade display\n",
    "\n",
    "choro3width = 400\n",
    "choro3height = 200\n",
    "\n",
    "choro3color = alt.Color('Depression (%):Q',scale=alt.Scale(scheme='viridis',reverse=True))\n",
    "\n",
    "choro3_1990 = alt.Chart(countries).mark_geoshape().encode(\n",
    "    color=choro3color,\n",
    "    tooltip=['Country:N','Depression (%):Q']\n",
    ").transform_lookup(\n",
    "    lookup='id',\n",
    "    from_=alt.LookupData(df_1990, 'id', ['Country','Depression (%)'])\n",
    ").project(\n",
    "    type='equirectangular'\n",
    ").properties(\n",
    "    width=choro3width,\n",
    "    height=choro3height\n",
    ")\n",
    "\n",
    "choro3_2000 = alt.Chart(countries).mark_geoshape().encode(\n",
    "    color=choro3color,\n",
    "    tooltip=['Country:N','Depression (%):Q']\n",
    ").transform_lookup(\n",
    "    lookup='id',\n",
    "    from_=alt.LookupData(df_2000, 'id', ['Country','Depression (%)'])\n",
    ").project(\n",
    "    type='equirectangular'\n",
    ").properties(\n",
    "    width=choro3width,\n",
    "    height=choro3height\n",
    ")\n",
    "\n",
    "choro3_2010 = alt.Chart(countries).mark_geoshape().encode(\n",
    "    color=choro3color,\n",
    "    tooltip=['Country:N','Depression (%):Q']\n",
    ").transform_lookup(\n",
    "    lookup='id',\n",
    "    from_=alt.LookupData(df_2010, 'id', ['Country','Depression (%)'])\n",
    ").project(\n",
    "    type='equirectangular'\n",
    ").properties(\n",
    "    width=choro3width,\n",
    "    height=choro3height\n",
    ")\n",
    "\n",
    "choro3_2017 = alt.Chart(countries).mark_geoshape().encode(\n",
    "    color=choro3color,\n",
    "    tooltip=['Country:N','Depression (%):Q']\n",
    ").transform_lookup(\n",
    "    lookup='id',\n",
    "    from_=alt.LookupData(df_2017, 'id', ['Country','Depression (%)'])\n",
    ").project(\n",
    "    type='equirectangular'\n",
    ").properties(\n",
    "    width=choro3width,\n",
    "    height=choro3height\n",
    ")\n",
    "\n",
    "choro3background = alt.Chart(countries).mark_geoshape(\n",
    "    fill='lightgrey',\n",
    "    stroke='black',\n",
    "    strokeWidth=0.1\n",
    ").project(\n",
    "    'equirectangular'\n",
    ").properties(\n",
    "    width=choro3width,\n",
    "    height=choro3height\n",
    ")\n",
    "\n",
    "map_1990 = alt.layer(choro3background,choro3_1990).properties(title='1990')\n",
    "map_2000 = alt.layer(choro3background,choro3_2000).properties(title='2000')\n",
    "map_2010 = alt.layer(choro3background,choro3_2010).properties(title='2010')\n",
    "map_2017 = alt.layer(choro3background,choro3_2017).properties(title='2017')"
   ]
  },
  {
   "cell_type": "markdown",
   "metadata": {},
   "source": [
    "## The Change in the Population With Depressive Disorders (%) Over 27 years"
   ]
  },
  {
   "cell_type": "markdown",
   "metadata": {},
   "source": [
    "hello \n",
    "\n",
    "My favorite search engine is [Duck Duck Go](https://duckduckgo.com)."
   ]
  },
  {
   "cell_type": "code",
   "execution_count": null,
   "metadata": {},
   "outputs": [],
   "source": [
    "# hide_input\n",
    "(map_1990 | map_2010) & (map_2000 | map_2017 )"
   ]
  },
  {
   "cell_type": "markdown",
   "metadata": {},
   "source": [
    "> #### The quarterly results look great!\n",
    ">\n",
    "> - Revenue was off the chart.\n",
    "> - Profits were higher than ever.\n",
    ">\n",
    ">  *Everything* is going according to **plan**."
   ]
  },
  {
   "cell_type": "code",
   "execution_count": null,
   "metadata": {},
   "outputs": [],
   "source": [
    "df"
   ]
  },
  {
   "cell_type": "code",
   "execution_count": null,
   "metadata": {},
   "outputs": [],
   "source": [
    "green = alt.Chart(df).mark_circle().encode(\n",
    "    alt.X('Access to green space', scale=alt.Scale(zero=False)),\n",
    "    alt.Y('Depression (%)', scale=alt.Scale(zero=False, padding=1)),\n",
    "    color='Country',\n",
    "    #size='Access to green space'\n",
    ")\n",
    "\n",
    "green + green.transform_regression('Access to green space','Depression (%)').mark_line()"
   ]
  },
  {
   "cell_type": "code",
   "execution_count": null,
   "metadata": {},
   "outputs": [],
   "source": [
    "# green space, one year 2012"
   ]
  },
  {
   "cell_type": "code",
   "execution_count": null,
   "metadata": {},
   "outputs": [],
   "source": [
    "green = alt.Chart(df).mark_circle().encode(\n",
    "    alt.X('Satisfaction with time use', scale=alt.Scale(zero=False)),\n",
    "    alt.Y('Depression (%)', scale=alt.Scale(zero=False, padding=1)),\n",
    "    color='Country',\n",
    "    #size='Access to green space'\n",
    ")\n",
    "\n",
    "green + green.transform_regression('Satisfaction with time use','Depression (%)').mark_line()"
   ]
  },
  {
   "cell_type": "code",
   "execution_count": null,
   "metadata": {},
   "outputs": [],
   "source": [
    "# hide_input"
   ]
  }
 ],
 "metadata": {
  "kernelspec": {
   "display_name": "Python 3",
   "language": "python",
   "name": "python3"
  },
  "language_info": {
   "codemirror_mode": {
    "name": "ipython",
    "version": 3
   },
   "file_extension": ".py",
   "mimetype": "text/x-python",
   "name": "python",
   "nbconvert_exporter": "python",
   "pygments_lexer": "ipython3",
   "version": "3.8.5"
  }
 },
 "nbformat": 4,
 "nbformat_minor": 4
}
