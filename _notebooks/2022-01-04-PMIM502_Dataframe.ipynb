{
 "cells": [
  {
   "cell_type": "markdown",
   "metadata": {},
   "source": [
    "# Explore the Data\n",
    "\n",
    "> Here you can look through the data yourself in it's raw form.\n",
    "\n",
    "- toc: true\n",
    "- badges: false\n",
    "- comments: false"
   ]
  },
  {
   "cell_type": "code",
   "execution_count": 1,
   "metadata": {},
   "outputs": [],
   "source": [
    "# hide\n",
    "# Code Import\n",
    "\n",
    "## Imports:\n",
    "\n",
    "### Libraries\n",
    "import numpy as np\n",
    "import pandas as pd\n",
    "import altair as alt\n",
    "import os, os.path\n",
    "import pycountry\n",
    "from vega_datasets import data\n",
    "import ipywidgets as widgets\n",
    "from ipywidgets import interactive\n",
    "import country_converter as coco\n",
    "import geopandas as gpd\n",
    "import json\n",
    "\n",
    "### Data\n",
    "cwd = os.getcwd()\n",
    "df_file = '/depression_final_df.csv'\n",
    "df = pd.read_csv(cwd + df_file)\n",
    "\n",
    "countries = alt.topo_feature(data.world_110m.url, 'countries')\n",
    "\n",
    "df = df.dropna(subset=['id'])\n",
    "df.id = df.id.astype(int)\n",
    "df = df.rename(columns={\"Prevalence - Depressive disorders - Sex: Male - Age: Age-standardized (Percent)\": \"Depression in males (%)\",\n",
    "                        \"Prevalence - Depressive disorders - Sex: Female - Age: Age-standardized (Percent)\": \"Depression in females (%)\"})\n",
    "\n",
    "sum_column = df[\"Depression in males (%)\"] + df[\"Depression in females (%)\"]\n",
    "\n",
    "df['Depression (%)'] = sum_column"
   ]
  },
  {
   "cell_type": "code",
   "execution_count": 3,
   "metadata": {},
   "outputs": [
    {
     "data": {
      "application/vnd.jupyter.widget-view+json": {
       "model_id": "8b0accf809204cedac6044b9bd902651",
       "version_major": 2,
       "version_minor": 0
      },
      "text/plain": [
       "interactive(children=(Select(description='x', options=('All', 'Afghanistan', 'Albania', 'Algeria', 'Angola', '…"
      ]
     },
     "metadata": {},
     "output_type": "display_data"
    },
    {
     "data": {
      "text/plain": [
       "<function __main__.view(x='hello', y=3)>"
      ]
     },
     "execution_count": 3,
     "metadata": {},
     "output_type": "execute_result"
    }
   ],
   "source": [
    "# hide_input\n",
    "items = ['All']+sorted(df['Country'].unique().tolist())\n",
    "\n",
    "def view(x='hello',y=3):\n",
    "    if x=='All': return df[df['Year']==y]\n",
    "    #return df[df['Country']==x] and df[df['Year']==y]\n",
    "    result = df.loc[(df['Country'] == x) & (df['Year'] == y)]\n",
    "    return result\n",
    " \n",
    "a_slider = widgets.IntSlider(min=1990, max=2017, step=1, value=5)\n",
    "b_select =  widgets.Select(options=items)\n",
    "widgets.interact(view,y=a_slider,x=b_select)"
   ]
  }
 ],
 "metadata": {
  "kernelspec": {
   "display_name": "Python 3",
   "language": "python",
   "name": "python3"
  },
  "language_info": {
   "codemirror_mode": {
    "name": "ipython",
    "version": 3
   },
   "file_extension": ".py",
   "mimetype": "text/x-python",
   "name": "python",
   "nbconvert_exporter": "python",
   "pygments_lexer": "ipython3",
   "version": "3.8.5"
  }
 },
 "nbformat": 4,
 "nbformat_minor": 4
}
