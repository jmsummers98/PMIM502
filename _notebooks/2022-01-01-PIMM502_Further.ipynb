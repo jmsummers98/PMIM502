{
 "cells": [
  {
   "cell_type": "markdown",
   "metadata": {},
   "source": [
    "# Further Information\n",
    "\n",
    "> This section will provide information on both the data used in this project and useful pages and papers on the topic of depression. \n",
    "\n",
    "- toc: true\n",
    "- badges: false\n",
    "- comments: false"
   ]
  },
  {
   "cell_type": "markdown",
   "metadata": {},
   "source": [
    "> If you are stuggling yourself with depression, then here are some useful links to help:  \n",
    "> 1. [NIMH](https://www.nimh.nih.gov/health/topics/depression)\n",
    "> 2. [NHS](https://www.nhs.uk/mental-health/conditions/clinical-depression/overview/)\n",
    "> 3. [Samaritans](https://www.samaritans.org/how-we-can-help/contact-samaritan/)\n",
    "> [If ugent:](https://www.nhs.uk/nhs-services/mental-health-services/where-to-get-urgent-help-for-mental-health/)."
   ]
  },
  {
   "cell_type": "code",
   "execution_count": null,
   "metadata": {},
   "outputs": [],
   "source": []
  }
 ],
 "metadata": {
  "kernelspec": {
   "display_name": "Python 3",
   "language": "python",
   "name": "python3"
  },
  "language_info": {
   "codemirror_mode": {
    "name": "ipython",
    "version": 3
   },
   "file_extension": ".py",
   "mimetype": "text/x-python",
   "name": "python",
   "nbconvert_exporter": "python",
   "pygments_lexer": "ipython3",
   "version": "3.8.5"
  }
 },
 "nbformat": 4,
 "nbformat_minor": 4
}
