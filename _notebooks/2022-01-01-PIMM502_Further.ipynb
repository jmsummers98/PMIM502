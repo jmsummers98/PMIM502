{
 "cells": [
  {
   "cell_type": "markdown",
   "metadata": {},
   "source": [
    "# Further Information\n",
    "\n",
    "> This section will provide information on both the data used in this project and useful pages and papers on the topic of depression. \n",
    "\n",
    "- toc: true\n",
    "- badges: false\n",
    "- comments: true"
   ]
  },
  {
   "cell_type": "markdown",
   "metadata": {},
   "source": [
    "---\n",
    "## Data Sources\n",
    "\n",
    "The data used for these visualisations comes from three individual datasets, one form Our World In Data (OWID) and two from the Organisation for Economic Co-operation and Development (OECD). Both are large collaborative organisations with large banks of data. I recommend everyone explore the datasets available there and, in the case of OWID, explore the professional visualizations they have done.\n",
    "  \n",
    "1. [Depression dataset](https://ourworldindata.org/mental-health)\n",
    "2. [Well-being statistics dataset](https://stats.oecd.org/index.aspx?queryid=68249)\n",
    "3. [Divorce rate dataset](https://stats.oecd.org/Index.aspx?DataSetCode=HSL)"
   ]
  },
  {
   "cell_type": "markdown",
   "metadata": {},
   "source": [
    "---\n",
    "## Interesting Papers and Research\n",
    "\n"
   ]
  },
  {
   "cell_type": "markdown",
   "metadata": {},
   "source": [
    "---\n",
    "## Helpful links  \n",
    "\n",
    "If you are stuggling yourself with depression, then here are some useful links to help:  \n",
    "  \n",
    "1. An overview - [NIMH](https://www.nimh.nih.gov/health/topics/depression)  \n",
    "2. Advice - [NHS](https://www.nhs.uk/mental-health/conditions/clinical-depression/overview/)  \n",
    "3. Want to talk to someone? - [Samaritans](https://www.samaritans.org/how-we-can-help/contact-samaritan/)  \n",
    "\n",
    "And if ugent: [Urgent NHS services](https://www.nhs.uk/nhs-services/mental-health-services/where-to-get-urgent-help-for-mental-health/)  "
   ]
  },
  {
   "cell_type": "code",
   "execution_count": null,
   "metadata": {},
   "outputs": [],
   "source": []
  }
 ],
 "metadata": {
  "kernelspec": {
   "display_name": "Python 3",
   "language": "python",
   "name": "python3"
  },
  "language_info": {
   "codemirror_mode": {
    "name": "ipython",
    "version": 3
   },
   "file_extension": ".py",
   "mimetype": "text/x-python",
   "name": "python",
   "nbconvert_exporter": "python",
   "pygments_lexer": "ipython3",
   "version": "3.8.5"
  }
 },
 "nbformat": 4,
 "nbformat_minor": 4
}
